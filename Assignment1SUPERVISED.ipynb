{
  "nbformat": 4,
  "nbformat_minor": 0,
  "metadata": {
    "colab": {
      "name": "Assignment1SUPERVISED.ipynb",
      "provenance": [],
      "collapsed_sections": [],
      "authorship_tag": "ABX9TyOMBiJ0gTYmu9gcLNpI3IDd",
      "include_colab_link": true
    },
    "kernelspec": {
      "name": "python3",
      "display_name": "Python 3"
    },
    "language_info": {
      "name": "python"
    }
  },
  "cells": [
    {
      "cell_type": "markdown",
      "metadata": {
        "id": "view-in-github",
        "colab_type": "text"
      },
      "source": [
        "<a href=\"https://colab.research.google.com/github/esraa9322/SupervisedLearningProjects/blob/main/Assignment1SUPERVISED.ipynb\" target=\"_parent\"><img src=\"https://colab.research.google.com/assets/colab-badge.svg\" alt=\"Open In Colab\"/></a>"
      ]
    },
    {
      "cell_type": "code",
      "execution_count": null,
      "metadata": {
        "id": "AmD8rlcCxbsW"
      },
      "outputs": [],
      "source": [
        "import tensorflow as tf\n",
        "import keras \n",
        "from keras.datasets import mnist \n",
        "import numpy as np\n",
        "from matplotlib import pyplot\n",
        "from matplotlib import pyplot as plt\n",
        "from scipy import ndimage\n",
        "import skimage \n",
        "from sklearn.neighbors import KNeighborsClassifier"
      ]
    },
    {
      "cell_type": "code",
      "source": [
        "(train_X, train_y), (test_X, test_y) = mnist.load_data()"
      ],
      "metadata": {
        "id": "WoQmMZIT18KT",
        "colab": {
          "base_uri": "https://localhost:8080/"
        },
        "outputId": "404342fa-50b6-4403-d444-11d209638785"
      },
      "execution_count": null,
      "outputs": [
        {
          "output_type": "stream",
          "name": "stdout",
          "text": [
            "Downloading data from https://storage.googleapis.com/tensorflow/tf-keras-datasets/mnist.npz\n",
            "11493376/11490434 [==============================] - 0s 0us/step\n",
            "11501568/11490434 [==============================] - 0s 0us/step\n"
          ]
        }
      ]
    },
    {
      "cell_type": "code",
      "source": [
        "train_X = train_X[:10000] / 255.0\n",
        "train_y = train_y[:10000] \n",
        "test_X = test_X[:1000] / 255.0\n",
        "test_y = test_y[:1000] "
      ],
      "metadata": {
        "id": "lh2KQI2S2JI2"
      },
      "execution_count": null,
      "outputs": []
    },
    {
      "cell_type": "code",
      "source": [
        "print(train_X[0].shape)"
      ],
      "metadata": {
        "colab": {
          "base_uri": "https://localhost:8080/"
        },
        "id": "vM3YHvav2P0S",
        "outputId": "f172219e-21e1-405a-9a9e-3ad65eabc2cf"
      },
      "execution_count": null,
      "outputs": [
        {
          "output_type": "stream",
          "name": "stdout",
          "text": [
            "(28, 28)\n"
          ]
        }
      ]
    },
    {
      "cell_type": "code",
      "source": [
        "def blocks_one_image(img):\n",
        "  blocks = []\n",
        "  for rows in range(0,img.shape[0],7):\n",
        "    for cols in range(0,img.shape[1],7):\n",
        "      blocks.append(img[rows:rows +7,cols :cols +7])\n",
        "  return np.array(blocks)\n",
        "  \n",
        "blocks_of_all_images=[]\n",
        "for img in train_X:\n",
        "  blocks_of_all_images.append(blocks_one_image(img))\n",
        "blocks_of_all_images=np.array(blocks_of_all_images)\n",
        "blocks_of_all_images.shape\n",
        "\n"
      ],
      "metadata": {
        "colab": {
          "base_uri": "https://localhost:8080/"
        },
        "id": "XVTwGpUh2U1W",
        "outputId": "533fd28e-108d-4e06-ea24-50dbfb8ee8dc"
      },
      "execution_count": null,
      "outputs": [
        {
          "output_type": "execute_result",
          "data": {
            "text/plain": [
              "(10000, 16, 7, 7)"
            ]
          },
          "metadata": {},
          "execution_count": 5
        }
      ]
    },
    {
      "cell_type": "code",
      "source": [
        "def center_of_block(block):\n",
        "  return np.array(ndimage.measurements.center_of_mass(block))"
      ],
      "metadata": {
        "id": "yPZga-ZgAanV"
      },
      "execution_count": null,
      "outputs": []
    },
    {
      "cell_type": "code",
      "source": [
        "def centers_of_image(img):\n",
        "  centers= []\n",
        "  for block in img:\n",
        "    centers.append(center_of_block(block))\n",
        "  return np.array(centers)"
      ],
      "metadata": {
        "id": "g_L44QEzAonW"
      },
      "execution_count": null,
      "outputs": []
    },
    {
      "cell_type": "code",
      "source": [
        "def centroids_of_data(blocks_of_all_images):\n",
        "  centroids = []\n",
        "  for img in blocks_of_all_images:\n",
        "    centroids.append(centers_of_image(img))\n",
        "  return np.array(centroids)"
      ],
      "metadata": {
        "id": "2PQYTUokAsXt"
      },
      "execution_count": null,
      "outputs": []
    },
    {
      "cell_type": "code",
      "source": [
        "test = blocks_of_all_images[0]"
      ],
      "metadata": {
        "id": "rbYBKzsYAv4E"
      },
      "execution_count": null,
      "outputs": []
    },
    {
      "cell_type": "code",
      "source": [
        "print(center_of_block(test[0]))"
      ],
      "metadata": {
        "colab": {
          "base_uri": "https://localhost:8080/"
        },
        "id": "qHTULX5NA4GP",
        "outputId": "7f57052f-e0bc-47f8-f037-d0c3a1698fe6"
      },
      "execution_count": null,
      "outputs": [
        {
          "output_type": "stream",
          "name": "stdout",
          "text": [
            "[nan nan]\n"
          ]
        },
        {
          "output_type": "stream",
          "name": "stderr",
          "text": [
            "/usr/local/lib/python3.7/dist-packages/scipy/ndimage/measurements.py:1359: RuntimeWarning: invalid value encountered in double_scalars\n",
            "  for dir in range(input.ndim)]\n"
          ]
        }
      ]
    },
    {
      "cell_type": "code",
      "source": [
        "print(centers_of_image(test))"
      ],
      "metadata": {
        "colab": {
          "base_uri": "https://localhost:8080/"
        },
        "id": "BzvWDm-sA-UY",
        "outputId": "1b99c5cf-fdf1-4758-aabd-0f77d1e635cc"
      },
      "execution_count": null,
      "outputs": [
        {
          "output_type": "stream",
          "name": "stdout",
          "text": [
            "[[       nan        nan]\n",
            " [5.97229551 4.6055409 ]\n",
            " [5.71422432 3.13708638]\n",
            " [5.44336283 0.72920354]\n",
            " [       nan        nan]\n",
            " [1.92178018 4.10367498]\n",
            " [1.58336198 1.75730492]\n",
            " [0.         0.41052632]\n",
            " [       nan        nan]\n",
            " [5.23522727 5.36363636]\n",
            " [3.24870541 2.6051496 ]\n",
            " [       nan        nan]\n",
            " [2.5606469  5.27493261]\n",
            " [1.3818144  2.84789846]\n",
            " [0.14285714 0.60192616]\n",
            " [       nan        nan]]\n"
          ]
        },
        {
          "output_type": "stream",
          "name": "stderr",
          "text": [
            "/usr/local/lib/python3.7/dist-packages/scipy/ndimage/measurements.py:1359: RuntimeWarning: invalid value encountered in double_scalars\n",
            "  for dir in range(input.ndim)]\n"
          ]
        }
      ]
    },
    {
      "cell_type": "code",
      "source": [
        "print(centroids_of_data(blocks_of_all_images).shape)"
      ],
      "metadata": {
        "colab": {
          "base_uri": "https://localhost:8080/"
        },
        "id": "Q5kXXhC1BDyi",
        "outputId": "563863e3-fd9f-47bc-c548-51d38d9ca49f"
      },
      "execution_count": null,
      "outputs": [
        {
          "output_type": "stream",
          "name": "stderr",
          "text": [
            "/usr/local/lib/python3.7/dist-packages/scipy/ndimage/measurements.py:1359: RuntimeWarning: invalid value encountered in double_scalars\n",
            "  for dir in range(input.ndim)]\n"
          ]
        },
        {
          "output_type": "stream",
          "name": "stdout",
          "text": [
            "(10000, 16, 2)\n"
          ]
        }
      ]
    },
    {
      "cell_type": "code",
      "source": [
        "feature_vector_train = centroids_of_data(blocks_of_all_images)\n",
        "feature_vector_train = np.nan_to_num(feature_vector_train)\n"
      ],
      "metadata": {
        "colab": {
          "base_uri": "https://localhost:8080/"
        },
        "id": "wLX1bdV7BLWC",
        "outputId": "1f2b3470-9b68-4aba-cefd-0fea1ee3decd"
      },
      "execution_count": null,
      "outputs": [
        {
          "output_type": "stream",
          "name": "stderr",
          "text": [
            "/usr/local/lib/python3.7/dist-packages/scipy/ndimage/measurements.py:1359: RuntimeWarning: invalid value encountered in double_scalars\n",
            "  for dir in range(input.ndim)]\n"
          ]
        }
      ]
    },
    {
      "cell_type": "code",
      "source": [
        "blocks_of_all_test_images=[]\n",
        "for img in test_X:\n",
        "  blocks_of_all_test_images.append(blocks_one_image(img))\n",
        "blocks_of_all_test_images = np.array(blocks_of_all_test_images)\n",
        "blocks_of_all_test_images.shape"
      ],
      "metadata": {
        "colab": {
          "base_uri": "https://localhost:8080/"
        },
        "id": "P02QFPeyE23-",
        "outputId": "e6d599c4-6c91-4fa2-9f5c-ec08eae06ffa"
      },
      "execution_count": null,
      "outputs": [
        {
          "output_type": "execute_result",
          "data": {
            "text/plain": [
              "(1000, 16, 7, 7)"
            ]
          },
          "metadata": {},
          "execution_count": 15
        }
      ]
    },
    {
      "cell_type": "code",
      "source": [
        "feature_vector_test = centroids_of_data(blocks_of_all_test_images)\n",
        "feature_vector_test = np.nan_to_num(feature_vector_test)\n"
      ],
      "metadata": {
        "colab": {
          "base_uri": "https://localhost:8080/"
        },
        "id": "BufXbA_xFI1-",
        "outputId": "66400fa3-2e2a-4d92-f4cc-28035bf3a159"
      },
      "execution_count": null,
      "outputs": [
        {
          "output_type": "stream",
          "name": "stderr",
          "text": [
            "/usr/local/lib/python3.7/dist-packages/scipy/ndimage/measurements.py:1359: RuntimeWarning: invalid value encountered in double_scalars\n",
            "  for dir in range(input.ndim)]\n"
          ]
        }
      ]
    },
    {
      "cell_type": "code",
      "source": [
        "print(feature_vector_test[2])"
      ],
      "metadata": {
        "colab": {
          "base_uri": "https://localhost:8080/"
        },
        "id": "7EugupoCFQw1",
        "outputId": "c46edb79-97d4-440a-e54e-92275e09e504"
      },
      "execution_count": null,
      "outputs": [
        {
          "output_type": "stream",
          "name": "stdout",
          "text": [
            "[[0.         0.        ]\n",
            " [0.         0.        ]\n",
            " [4.97913189 2.94240401]\n",
            " [0.         0.        ]\n",
            " [0.         0.        ]\n",
            " [6.         6.        ]\n",
            " [3.08664817 1.35800185]\n",
            " [0.         0.        ]\n",
            " [0.         0.        ]\n",
            " [3.88183347 5.62321278]\n",
            " [1.80755524 0.17533856]\n",
            " [0.         0.        ]\n",
            " [0.         0.        ]\n",
            " [0.86721208 4.843927  ]\n",
            " [0.         0.        ]\n",
            " [0.         0.        ]]\n"
          ]
        }
      ]
    },
    {
      "cell_type": "code",
      "source": [
        "feature_vector_train = feature_vector_train.reshape((10000,32))\n",
        "feature_vector_test = feature_vector_test.reshape((1000,32))\n",
        "feature_vector_train.shape"
      ],
      "metadata": {
        "colab": {
          "base_uri": "https://localhost:8080/"
        },
        "id": "B4iDmHqvFVsh",
        "outputId": "8137762b-9457-42a6-dbeb-bb2820d242bf"
      },
      "execution_count": null,
      "outputs": [
        {
          "output_type": "execute_result",
          "data": {
            "text/plain": [
              "(10000, 32)"
            ]
          },
          "metadata": {},
          "execution_count": 19
        }
      ]
    },
    {
      "cell_type": "code",
      "source": [
        "print(train_y[20])"
      ],
      "metadata": {
        "colab": {
          "base_uri": "https://localhost:8080/"
        },
        "id": "iToce3ovFi0F",
        "outputId": "a48e6c8c-3844-45ce-adc6-36752e5b75c8"
      },
      "execution_count": null,
      "outputs": [
        {
          "output_type": "stream",
          "name": "stdout",
          "text": [
            "4\n"
          ]
        }
      ]
    },
    {
      "cell_type": "code",
      "source": [
        "def calculate_euclidean_distance(instance1,instance2):\n",
        "  return np.sqrt(np.sum((instance1-instance2)**2))"
      ],
      "metadata": {
        "id": "jW25ntp-FwxB"
      },
      "execution_count": null,
      "outputs": []
    },
    {
      "cell_type": "code",
      "source": [
        "from scipy.stats import mode\n",
        "# x is the feature vector train\n",
        "# y is the train_y \n",
        "# test is test_X\n",
        "def knn_model(X,Y,test_input,k):\n",
        "  output_labels = []\n",
        "  for point in test_input :\n",
        "    point_distances = []\n",
        "    for i in range (X.shape[0]):\n",
        "      distance = calculate_euclidean_distance(np.array(X[i, :]),point)\n",
        "      point_distances.append(distance)\n",
        "    point_distances = np.array(point_distances)\n",
        "    dist = np.argsort(point_distances)[:k]\n",
        "    labels = Y[dist]\n",
        "    label = mode(labels)\n",
        "    label = label.mode[0]\n",
        "    output_labels.append(label)\n",
        "  return output_labels\n",
        "\n",
        "\n",
        "   "
      ],
      "metadata": {
        "id": "poqi_nqTGEzJ"
      },
      "execution_count": null,
      "outputs": []
    },
    {
      "cell_type": "markdown",
      "source": [
        "**Testing from scratch knn with different k values**"
      ],
      "metadata": {
        "id": "9gVJDj4qLkvn"
      }
    },
    {
      "cell_type": "code",
      "source": [
        "from sklearn.metrics import accuracy_score\n"
      ],
      "metadata": {
        "id": "LL-YJwwsgOAR"
      },
      "execution_count": null,
      "outputs": []
    },
    {
      "cell_type": "code",
      "source": [
        "y_predicted = knn_model (feature_vector_train ,train_y ,feature_vector_test , 3)\n",
        "print(accuracy_score(test_y, y_predicted)*100)"
      ],
      "metadata": {
        "colab": {
          "base_uri": "https://localhost:8080/"
        },
        "id": "39uAgGKdgODI",
        "outputId": "b1c0d01a-7cee-4ff7-fe7c-2de01c1f9d0e"
      },
      "execution_count": null,
      "outputs": [
        {
          "output_type": "stream",
          "name": "stdout",
          "text": [
            "84.3\n"
          ]
        }
      ]
    },
    {
      "cell_type": "code",
      "source": [
        "y_predicted1 = knn_model (feature_vector_train ,train_y ,feature_vector_test , 5)\n",
        "print(accuracy_score(test_y, y_predicted1)*100)"
      ],
      "metadata": {
        "id": "pslI9BzZlIe3",
        "colab": {
          "base_uri": "https://localhost:8080/"
        },
        "outputId": "a0fa6e91-22cd-4c36-b223-09b4f68c5209"
      },
      "execution_count": null,
      "outputs": [
        {
          "output_type": "stream",
          "name": "stdout",
          "text": [
            "83.6\n"
          ]
        }
      ]
    },
    {
      "cell_type": "code",
      "source": [
        "y_predicted2 = knn_model (feature_vector_train ,train_y ,feature_vector_test , 1)\n",
        "print(accuracy_score(test_y, y_predicted2)*100)"
      ],
      "metadata": {
        "id": "stalLYK7Gpiy",
        "colab": {
          "base_uri": "https://localhost:8080/"
        },
        "outputId": "4962c776-80f6-44ac-eba4-adbe4ce1d865"
      },
      "execution_count": null,
      "outputs": [
        {
          "metadata": {
            "tags": null
          },
          "name": "stdout",
          "output_type": "stream",
          "text": [
            "84.89999999999999\n"
          ]
        }
      ]
    },
    {
      "cell_type": "markdown",
      "source": [
        "**Testing with the built in knn classifier**"
      ],
      "metadata": {
        "id": "EkT60ZOQK3AT"
      }
    },
    {
      "cell_type": "code",
      "source": [
        "from sklearn.neighbors import KNeighborsClassifier\n",
        "test_model = KNeighborsClassifier(n_neighbors=3)\n",
        "test_model.fit(feature_vector_train, train_y)\n",
        "predicted = test_model.predict(feature_vector_test)\n",
        "print(accuracy_score(test_y, predicted))"
      ],
      "metadata": {
        "colab": {
          "base_uri": "https://localhost:8080/"
        },
        "id": "367WFv5tIxD8",
        "outputId": "ecd5d542-ac78-4ac5-8510-05e81fdb2688"
      },
      "execution_count": null,
      "outputs": [
        {
          "output_type": "stream",
          "name": "stdout",
          "text": [
            "0.843\n"
          ]
        }
      ]
    },
    {
      "cell_type": "code",
      "source": [
        "test_model = KNeighborsClassifier(n_neighbors=6)\n",
        "test_model.fit(feature_vector_train, train_y)\n",
        "predicted = test_model.predict(feature_vector_test)\n",
        "print(accuracy_score(test_y, predicted))"
      ],
      "metadata": {
        "id": "Do25XaSqspL1",
        "colab": {
          "base_uri": "https://localhost:8080/"
        },
        "outputId": "65fafe55-1679-4fdc-acd7-352eeaa613aa"
      },
      "execution_count": null,
      "outputs": [
        {
          "output_type": "stream",
          "name": "stdout",
          "text": [
            "0.84\n"
          ]
        }
      ]
    },
    {
      "cell_type": "code",
      "source": [
        "test_model = KNeighborsClassifier(n_neighbors=7)\n",
        "test_model.fit(feature_vector_train, train_y)\n",
        "predicted = test_model.predict(feature_vector_test)\n",
        "print(accuracy_score(test_y, predicted))"
      ],
      "metadata": {
        "id": "-m3djiL_suCE",
        "colab": {
          "base_uri": "https://localhost:8080/"
        },
        "outputId": "10192575-9be0-4aba-dfb0-246f8314b2a4"
      },
      "execution_count": null,
      "outputs": [
        {
          "output_type": "stream",
          "name": "stdout",
          "text": [
            "0.831\n"
          ]
        }
      ]
    },
    {
      "cell_type": "code",
      "source": [
        ""
      ],
      "metadata": {
        "id": "ovQNna0IszAy"
      },
      "execution_count": null,
      "outputs": []
    }
  ]
}